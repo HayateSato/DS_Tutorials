{
 "cells": [
  {
   "cell_type": "markdown",
   "id": "7f84882b-e707-4ace-995b-b323da51c18a",
   "metadata": {},
   "source": [
    "https://elitedatascience.com/python-machine-learning-tutorial-scikit-learn"
   ]
  },
  {
   "cell_type": "markdown",
   "id": "8d91e23b-2fa1-4cdb-8d3c-bae217a4135e",
   "metadata": {},
   "source": [
    "# STEP 1&2 Envritonemtn and Importing Packages"
   ]
  },
  {
   "cell_type": "code",
   "execution_count": 1,
   "id": "a7cfd4bf-79cd-44b9-85ef-9948e867aa1b",
   "metadata": {
    "tags": []
   },
   "outputs": [],
   "source": [
    "import numpy as np\n",
    "import pandas as pd\n",
    "from sklearn.model_selection import train_test_split\n",
    "from sklearn import preprocessing"
   ]
  },
  {
   "cell_type": "markdown",
   "id": "25184084-760e-4e84-aec6-a175a238d47a",
   "metadata": {},
   "source": [
    "families?? we will come back to this at STEP 7"
   ]
  },
  {
   "cell_type": "code",
   "execution_count": 4,
   "id": "1a32d882-b286-470e-a71f-574769be30a3",
   "metadata": {
    "tags": []
   },
   "outputs": [],
   "source": [
    "#  import the random forest family\n",
    "from sklearn.ensemble import RandomForestRegressor\n",
    "\n",
    "# tools to help us perform cross-validation.\n",
    "from sklearn.pipeline import make_pipeline\n",
    "from sklearn.model_selection import GridSearchCV\n",
    "\n",
    "# some metrics we can use to evaluate our model performance later\n",
    "from sklearn.metrics import mean_squared_error, r2_score\n",
    "\n",
    "#mport a way to persist our model for future use\n",
    "import joblib"
   ]
  },
  {
   "cell_type": "markdown",
   "id": "b6c50039-101e-4360-8ff3-16cab38c728d",
   "metadata": {},
   "source": [
    "# STEP 3: Loeading Data "
   ]
  },
  {
   "cell_type": "code",
   "execution_count": null,
   "id": "b770bf64-d664-453b-bc67-afa4f15459a6",
   "metadata": {},
   "outputs": [],
   "source": []
  },
  {
   "cell_type": "code",
   "execution_count": null,
   "id": "fa43d975-facf-4977-9f79-26ff3cec4625",
   "metadata": {},
   "outputs": [],
   "source": []
  },
  {
   "cell_type": "code",
   "execution_count": null,
   "id": "f5dfd40f-942f-4ccc-90d4-bc44c8ce2152",
   "metadata": {},
   "outputs": [],
   "source": []
  },
  {
   "cell_type": "code",
   "execution_count": null,
   "id": "0161e79a-6686-499b-82fe-583e9589a3cb",
   "metadata": {},
   "outputs": [],
   "source": []
  },
  {
   "cell_type": "code",
   "execution_count": null,
   "id": "78d4233c-3816-49d1-a7fb-bbe6f37413ec",
   "metadata": {},
   "outputs": [],
   "source": []
  },
  {
   "cell_type": "markdown",
   "id": "c3a1821a-70ea-4dcb-9991-5f0a5a80ba7f",
   "metadata": {},
   "source": []
  }
 ],
 "metadata": {
  "kernelspec": {
   "display_name": "Python 3 (ipykernel)",
   "language": "python",
   "name": "python3"
  },
  "language_info": {
   "codemirror_mode": {
    "name": "ipython",
    "version": 3
   },
   "file_extension": ".py",
   "mimetype": "text/x-python",
   "name": "python",
   "nbconvert_exporter": "python",
   "pygments_lexer": "ipython3",
   "version": "3.11.5"
  }
 },
 "nbformat": 4,
 "nbformat_minor": 5
}
