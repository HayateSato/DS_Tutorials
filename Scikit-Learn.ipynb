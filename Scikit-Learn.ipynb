{
 "cells": [
  {
   "cell_type": "markdown",
   "id": "7f84882b-e707-4ace-995b-b323da51c18a",
   "metadata": {},
   "source": [
    "https://elitedatascience.com/python-machine-learning-tutorial-scikit-learn"
   ]
  },
  {
   "cell_type": "markdown",
   "id": "8d91e23b-2fa1-4cdb-8d3c-bae217a4135e",
   "metadata": {},
   "source": [
    "# STEP 1&2 Envritonemtn and Importing Packages"
   ]
  },
  {
   "cell_type": "code",
   "execution_count": 33,
   "id": "a7cfd4bf-79cd-44b9-85ef-9948e867aa1b",
   "metadata": {
    "tags": []
   },
   "outputs": [],
   "source": [
    "import numpy as np\n",
    "np.set_printoptions(suppress=True) # this is to get rid of scientific notation such as 1.16664562e-16. \n",
    "\n",
    "import pandas as pd\n",
    "from sklearn.model_selection import train_test_split\n",
    "\n",
    "# this is for scaline the dataset\n",
    "from sklearn import preprocessing "
   ]
  },
  {
   "cell_type": "markdown",
   "id": "25184084-760e-4e84-aec6-a175a238d47a",
   "metadata": {},
   "source": [
    "families?? we will come back to this at STEP 7"
   ]
  },
  {
   "cell_type": "code",
   "execution_count": 4,
   "id": "1a32d882-b286-470e-a71f-574769be30a3",
   "metadata": {
    "tags": []
   },
   "outputs": [],
   "source": [
    "#  import the random forest family\n",
    "from sklearn.ensemble import RandomForestRegressor\n",
    "\n",
    "# tools to help us perform cross-validation.\n",
    "from sklearn.pipeline import make_pipeline\n",
    "from sklearn.model_selection import GridSearchCV\n",
    "\n",
    "# some metrics we can use to evaluate our model performance later\n",
    "from sklearn.metrics import mean_squared_error, r2_score\n",
    "\n",
    "#mport a way to persist our model for future use\n",
    "import joblib"
   ]
  },
  {
   "cell_type": "markdown",
   "id": "b6c50039-101e-4360-8ff3-16cab38c728d",
   "metadata": {},
   "source": [
    "# STEP 3: Loeading Data "
   ]
  },
  {
   "cell_type": "code",
   "execution_count": 5,
   "id": "b770bf64-d664-453b-bc67-afa4f15459a6",
   "metadata": {
    "tags": []
   },
   "outputs": [],
   "source": [
    "dataset_url = 'https://archive.ics.uci.edu/ml/machine-learning-databases/wine-quality/winequality-red.csv'\n",
    "data = pd.read_csv(dataset_url)"
   ]
  },
  {
   "cell_type": "code",
   "execution_count": 6,
   "id": "fa43d975-facf-4977-9f79-26ff3cec4625",
   "metadata": {
    "tags": []
   },
   "outputs": [
    {
     "name": "stdout",
     "output_type": "stream",
     "text": [
      "  fixed acidity;\"volatile acidity\";\"citric acid\";\"residual sugar\";\"chlorides\";\"free sulfur dioxide\";\"total sulfur dioxide\";\"density\";\"pH\";\"sulphates\";\"alcohol\";\"quality\"\n",
      "0   7.4;0.7;0;1.9;0.076;11;34;0.9978;3.51;0.56;9.4;5                                                                                                                     \n",
      "1   7.8;0.88;0;2.6;0.098;25;67;0.9968;3.2;0.68;9.8;5                                                                                                                     \n",
      "2  7.8;0.76;0.04;2.3;0.092;15;54;0.997;3.26;0.65;...                                                                                                                     \n",
      "3  11.2;0.28;0.56;1.9;0.075;17;60;0.998;3.16;0.58...                                                                                                                     \n",
      "4   7.4;0.7;0;1.9;0.076;11;34;0.9978;3.51;0.56;9.4;5                                                                                                                     \n"
     ]
    }
   ],
   "source": [
    "print(data.head())"
   ]
  },
  {
   "cell_type": "code",
   "execution_count": 13,
   "id": "09a19d1c-76d7-40d7-8344-dafbb02f061c",
   "metadata": {
    "tags": []
   },
   "outputs": [],
   "source": [
    "######### it looks like the CSV file is actually using semicolons to separate the data. \n",
    "######### to fix this issue..."
   ]
  },
  {
   "cell_type": "code",
   "execution_count": 7,
   "id": "0161e79a-6686-499b-82fe-583e9589a3cb",
   "metadata": {
    "tags": []
   },
   "outputs": [
    {
     "name": "stdout",
     "output_type": "stream",
     "text": [
      "   fixed acidity  volatile acidity  citric acid  residual sugar  chlorides  \\\n",
      "0            7.4              0.70         0.00             1.9      0.076   \n",
      "1            7.8              0.88         0.00             2.6      0.098   \n",
      "2            7.8              0.76         0.04             2.3      0.092   \n",
      "3           11.2              0.28         0.56             1.9      0.075   \n",
      "4            7.4              0.70         0.00             1.9      0.076   \n",
      "\n",
      "   free sulfur dioxide  total sulfur dioxide  density    pH  sulphates  \\\n",
      "0                 11.0                  34.0   0.9978  3.51       0.56   \n",
      "1                 25.0                  67.0   0.9968  3.20       0.68   \n",
      "2                 15.0                  54.0   0.9970  3.26       0.65   \n",
      "3                 17.0                  60.0   0.9980  3.16       0.58   \n",
      "4                 11.0                  34.0   0.9978  3.51       0.56   \n",
      "\n",
      "   alcohol  quality  \n",
      "0      9.4        5  \n",
      "1      9.8        5  \n",
      "2      9.8        5  \n",
      "3      9.8        6  \n",
      "4      9.4        5  \n"
     ]
    }
   ],
   "source": [
    "data = pd.read_csv(dataset_url, sep=';')\n",
    " \n",
    "print( data.head() )"
   ]
  },
  {
   "cell_type": "code",
   "execution_count": 10,
   "id": "fb05974f-c600-4642-aa2d-005bac231ceb",
   "metadata": {
    "tags": []
   },
   "outputs": [
    {
     "data": {
      "text/plain": [
       "(1599, 12)"
      ]
     },
     "execution_count": 10,
     "metadata": {},
     "output_type": "execute_result"
    }
   ],
   "source": [
    "data.shape"
   ]
  },
  {
   "cell_type": "code",
   "execution_count": 11,
   "id": "030ebe33-683e-4202-9eb0-42ae89126dd4",
   "metadata": {
    "tags": []
   },
   "outputs": [
    {
     "name": "stdout",
     "output_type": "stream",
     "text": [
      "       fixed acidity  volatile acidity  citric acid  residual sugar  \\\n",
      "count    1599.000000       1599.000000  1599.000000     1599.000000   \n",
      "mean        8.319637          0.527821     0.270976        2.538806   \n",
      "std         1.741096          0.179060     0.194801        1.409928   \n",
      "min         4.600000          0.120000     0.000000        0.900000   \n",
      "25%         7.100000          0.390000     0.090000        1.900000   \n",
      "50%         7.900000          0.520000     0.260000        2.200000   \n",
      "75%         9.200000          0.640000     0.420000        2.600000   \n",
      "max        15.900000          1.580000     1.000000       15.500000   \n",
      "\n",
      "         chlorides  free sulfur dioxide  total sulfur dioxide      density  \\\n",
      "count  1599.000000          1599.000000           1599.000000  1599.000000   \n",
      "mean      0.087467            15.874922             46.467792     0.996747   \n",
      "std       0.047065            10.460157             32.895324     0.001887   \n",
      "min       0.012000             1.000000              6.000000     0.990070   \n",
      "25%       0.070000             7.000000             22.000000     0.995600   \n",
      "50%       0.079000            14.000000             38.000000     0.996750   \n",
      "75%       0.090000            21.000000             62.000000     0.997835   \n",
      "max       0.611000            72.000000            289.000000     1.003690   \n",
      "\n",
      "                pH    sulphates      alcohol      quality  \n",
      "count  1599.000000  1599.000000  1599.000000  1599.000000  \n",
      "mean      3.311113     0.658149    10.422983     5.636023  \n",
      "std       0.154386     0.169507     1.065668     0.807569  \n",
      "min       2.740000     0.330000     8.400000     3.000000  \n",
      "25%       3.210000     0.550000     9.500000     5.000000  \n",
      "50%       3.310000     0.620000    10.200000     6.000000  \n",
      "75%       3.400000     0.730000    11.100000     6.000000  \n",
      "max       4.010000     2.000000    14.900000     8.000000  \n"
     ]
    }
   ],
   "source": [
    "print(data.describe())"
   ]
  },
  {
   "cell_type": "code",
   "execution_count": 8,
   "id": "78d4233c-3816-49d1-a7fb-bbe6f37413ec",
   "metadata": {
    "tags": []
   },
   "outputs": [
    {
     "name": "stdout",
     "output_type": "stream",
     "text": [
      "<class 'pandas.core.frame.DataFrame'>\n",
      "RangeIndex: 1599 entries, 0 to 1598\n",
      "Data columns (total 12 columns):\n",
      " #   Column                Non-Null Count  Dtype  \n",
      "---  ------                --------------  -----  \n",
      " 0   fixed acidity         1599 non-null   float64\n",
      " 1   volatile acidity      1599 non-null   float64\n",
      " 2   citric acid           1599 non-null   float64\n",
      " 3   residual sugar        1599 non-null   float64\n",
      " 4   chlorides             1599 non-null   float64\n",
      " 5   free sulfur dioxide   1599 non-null   float64\n",
      " 6   total sulfur dioxide  1599 non-null   float64\n",
      " 7   density               1599 non-null   float64\n",
      " 8   pH                    1599 non-null   float64\n",
      " 9   sulphates             1599 non-null   float64\n",
      " 10  alcohol               1599 non-null   float64\n",
      " 11  quality               1599 non-null   int64  \n",
      "dtypes: float64(11), int64(1)\n",
      "memory usage: 150.0 KB\n"
     ]
    }
   ],
   "source": [
    "data.info()"
   ]
  },
  {
   "cell_type": "code",
   "execution_count": 12,
   "id": "43ed3490-127d-4697-8d5e-e79613893b7a",
   "metadata": {
    "tags": []
   },
   "outputs": [],
   "source": [
    "####### All of the features are numeric, which is convenient. \n",
    "####### However, they have some very different scales, so let’s make a mental note to standardize the data later."
   ]
  },
  {
   "cell_type": "markdown",
   "id": "ae68c6dc-5113-4db1-93d7-30ce86ef1b83",
   "metadata": {},
   "source": [
    "# STEP4: split datasets"
   ]
  },
  {
   "cell_type": "markdown",
   "id": "395e7228-f2fe-42fa-8e22-d7c5748293d5",
   "metadata": {},
   "source": [
    "### First, let’s separate our target (y) features from our input (X) features:"
   ]
  },
  {
   "cell_type": "code",
   "execution_count": 14,
   "id": "50654462-8d0b-4ffe-8671-4d859aa3bb38",
   "metadata": {
    "tags": []
   },
   "outputs": [],
   "source": [
    "y = data.quality\n",
    "X = data.drop('quality', axis=1)"
   ]
  },
  {
   "cell_type": "code",
   "execution_count": 16,
   "id": "b04958b0-25a9-442b-a851-476dab0ae259",
   "metadata": {
    "tags": []
   },
   "outputs": [],
   "source": [
    "# Scikit-Learn’s useful train_test_split function:\n",
    "# we’ll set aside 20% of the data as a test set for evaluating our model\n",
    "# We also set an arbitrary “random state” (a.k.a. seed) so that we can reproduce our results\n",
    "\n",
    "X_train, X_test, y_train, y_test = train_test_split(X, y, \n",
    "                                                    test_size=0.2, \n",
    "                                                    random_state=123, \n",
    "                                                    stratify=y)\n",
    "\n"
   ]
  },
  {
   "cell_type": "markdown",
   "id": "b5db1d40-4ab4-4b60-a1c4-5fd828673917",
   "metadata": {
    "tags": []
   },
   "source": [
    "# STEP5: Decleate Data Preprocessing Steps"
   ]
  },
  {
   "cell_type": "markdown",
   "id": "88a55f9d-bdbd-46e5-ab0c-7b77b8654797",
   "metadata": {},
   "source": [
    "## scaling method 1 : NOTE THAT WE DO NOT USE THIS METHOD"
   ]
  },
  {
   "cell_type": "code",
   "execution_count": 36,
   "id": "5d35d904-d75d-4d0b-a216-1464b7d7cb68",
   "metadata": {
    "tags": []
   },
   "outputs": [
    {
     "name": "stdout",
     "output_type": "stream",
     "text": [
      "      fixed acidity  volatile acidity  citric acid  residual sugar  chlorides  \\\n",
      "691             9.2             0.920         0.24             2.6      0.087   \n",
      "1475            5.3             0.470         0.11             2.2      0.048   \n",
      "1065            7.7             0.610         0.18             2.4      0.083   \n",
      "1159           10.2             0.410         0.43             2.2      0.110   \n",
      "227             9.0             0.820         0.14             2.6      0.089   \n",
      "...             ...               ...          ...             ...        ...   \n",
      "463             8.1             0.660         0.70             2.2      0.098   \n",
      "558            10.9             0.530         0.49             4.6      0.118   \n",
      "1094            6.6             0.725         0.09             5.5      0.117   \n",
      "792             7.1             0.610         0.02             2.5      0.081   \n",
      "381            13.7             0.415         0.68             2.9      0.085   \n",
      "\n",
      "      free sulfur dioxide  total sulfur dioxide  density    pH  sulphates  \\\n",
      "691                  12.0                  93.0  0.99980  3.48       0.54   \n",
      "1475                 16.0                  89.0  0.99182  3.54       0.88   \n",
      "1065                  6.0                  20.0  0.99630  3.29       0.60   \n",
      "1159                 11.0                  37.0  0.99728  3.16       0.67   \n",
      "227                   9.0                  23.0  0.99840  3.39       0.63   \n",
      "...                   ...                   ...      ...   ...        ...   \n",
      "463                  25.0                 129.0  0.99720  3.08       0.53   \n",
      "558                  10.0                  17.0  1.00020  3.07       0.56   \n",
      "1094                  9.0                  17.0  0.99655  3.35       0.49   \n",
      "792                  17.0                  87.0  0.99745  3.48       0.60   \n",
      "381                  17.0                  43.0  1.00140  3.06       0.80   \n",
      "\n",
      "        alcohol  \n",
      "691    9.800000  \n",
      "1475  13.566667  \n",
      "1065  10.200000  \n",
      "1159  10.800000  \n",
      "227    9.800000  \n",
      "...         ...  \n",
      "463    9.000000  \n",
      "558   11.700000  \n",
      "1094  10.800000  \n",
      "792    9.700000  \n",
      "381   10.000000  \n",
      "\n",
      "[1279 rows x 11 columns]\n"
     ]
    }
   ],
   "source": [
    "print(X_train)"
   ]
  },
  {
   "cell_type": "code",
   "execution_count": 22,
   "id": "dda72a21-3b66-489f-bf8a-eb8b60a13056",
   "metadata": {
    "tags": []
   },
   "outputs": [
    {
     "name": "stdout",
     "output_type": "stream",
     "text": [
      "[[ 0.51358886  2.19680282 -0.164433   ...  1.08415147 -0.69866131\n",
      "  -0.58608178]\n",
      " [-1.73698885 -0.31792985 -0.82867679 ...  1.46964764  1.2491516\n",
      "   2.97009781]\n",
      " [-0.35201795  0.46443143 -0.47100705 ... -0.13658641 -0.35492962\n",
      "  -0.20843439]\n",
      " ...\n",
      " [-0.98679628  1.10708533 -0.93086814 ...  0.24890976 -0.98510439\n",
      "   0.35803669]\n",
      " [-0.69826067  0.46443143 -1.28853787 ...  1.08415147 -0.35492962\n",
      "  -0.68049363]\n",
      " [ 3.1104093  -0.62528606  2.08377675 ... -1.61432173  0.79084268\n",
      "  -0.39725809]]\n"
     ]
    }
   ],
   "source": [
    "# Using \"preprocessing\", scaling a dataset\n",
    "X_train_scaled = preprocessing.scale(X_train)\n",
    "print( X_train_scaled )"
   ]
  },
  {
   "cell_type": "code",
   "execution_count": 35,
   "id": "934b9bc6-9681-43ad-9618-87718faf991c",
   "metadata": {
    "tags": []
   },
   "outputs": [
    {
     "name": "stdout",
     "output_type": "stream",
     "text": [
      "[ 0. -0. -0. -0.  0. -0. -0. -0. -0. -0. -0.]\n",
      "[1. 1. 1. 1. 1. 1. 1. 1. 1. 1. 1.]\n"
     ]
    }
   ],
   "source": [
    "# confirming that the dataset is standardised / scaled \n",
    "\n",
    "print( X_train_scaled.mean(axis=0) ) \n",
    "#### this may print you with sicentific notation. \n",
    "#### In such cases, you set np.set_printoptions(suppress=True) \n",
    "\n",
    "print( X_train_scaled.std(axis=0) )"
   ]
  },
  {
   "cell_type": "code",
   "execution_count": null,
   "id": "e154a4b4-12b8-447f-859a-5a7a62f57865",
   "metadata": {},
   "outputs": [],
   "source": []
  },
  {
   "cell_type": "code",
   "execution_count": null,
   "id": "5a6d7351-7e4a-4b88-be8c-9af6a8d8f8b2",
   "metadata": {},
   "outputs": [],
   "source": []
  },
  {
   "cell_type": "code",
   "execution_count": null,
   "id": "9ac99edc-8d81-42d5-afef-2bf60b9bdd17",
   "metadata": {},
   "outputs": [],
   "source": []
  },
  {
   "cell_type": "code",
   "execution_count": null,
   "id": "7ee04562-b768-4da1-ad73-e751e442b6f8",
   "metadata": {},
   "outputs": [],
   "source": []
  },
  {
   "cell_type": "markdown",
   "id": "c3a1821a-70ea-4dcb-9991-5f0a5a80ba7f",
   "metadata": {},
   "source": []
  }
 ],
 "metadata": {
  "kernelspec": {
   "display_name": "Python 3 (ipykernel)",
   "language": "python",
   "name": "python3"
  },
  "language_info": {
   "codemirror_mode": {
    "name": "ipython",
    "version": 3
   },
   "file_extension": ".py",
   "mimetype": "text/x-python",
   "name": "python",
   "nbconvert_exporter": "python",
   "pygments_lexer": "ipython3",
   "version": "3.11.5"
  }
 },
 "nbformat": 4,
 "nbformat_minor": 5
}
