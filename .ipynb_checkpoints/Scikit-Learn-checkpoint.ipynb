{
 "cells": [
  {
   "cell_type": "markdown",
   "id": "7f84882b-e707-4ace-995b-b323da51c18a",
   "metadata": {},
   "source": [
    "https://elitedatascience.com/python-machine-learning-tutorial-scikit-learn"
   ]
  },
  {
   "cell_type": "markdown",
   "id": "8d91e23b-2fa1-4cdb-8d3c-bae217a4135e",
   "metadata": {},
   "source": [
    "# STEP 1&2 Envritonemtn and Importing Packages"
   ]
  },
  {
   "cell_type": "code",
   "execution_count": 1,
   "id": "a7cfd4bf-79cd-44b9-85ef-9948e867aa1b",
   "metadata": {
    "tags": []
   },
   "outputs": [],
   "source": [
    "import numpy as np\n",
    "np.set_printoptions(suppress=True) # this is to get rid of scientific notation such as 1.16664562e-16. \n",
    "\n",
    "import pandas as pd\n",
    "from sklearn.model_selection import train_test_split\n",
    "\n",
    "# this is for scaline the dataset\n",
    "from sklearn import preprocessing "
   ]
  },
  {
   "cell_type": "markdown",
   "id": "25184084-760e-4e84-aec6-a175a238d47a",
   "metadata": {},
   "source": [
    "families?? we will come back to this at STEP 7"
   ]
  },
  {
   "cell_type": "code",
   "execution_count": 2,
   "id": "1a32d882-b286-470e-a71f-574769be30a3",
   "metadata": {
    "tags": []
   },
   "outputs": [],
   "source": [
    "#  import the random forest family\n",
    "from sklearn.ensemble import RandomForestRegressor\n",
    "\n",
    "# tools to help us perform cross-validation.\n",
    "from sklearn.pipeline import make_pipeline\n",
    "from sklearn.model_selection import GridSearchCV\n",
    "\n",
    "# some metrics we can use to evaluate our model performance later\n",
    "from sklearn.metrics import mean_squared_error, r2_score\n",
    "\n",
    "#mport a way to persist our model for future use\n",
    "import joblib"
   ]
  },
  {
   "cell_type": "markdown",
   "id": "b6c50039-101e-4360-8ff3-16cab38c728d",
   "metadata": {},
   "source": [
    "# STEP 3: Loeading Data "
   ]
  },
  {
   "cell_type": "code",
   "execution_count": 3,
   "id": "b770bf64-d664-453b-bc67-afa4f15459a6",
   "metadata": {
    "tags": []
   },
   "outputs": [],
   "source": [
    "dataset_url = 'https://archive.ics.uci.edu/ml/machine-learning-databases/wine-quality/winequality-red.csv'\n",
    "data = pd.read_csv(dataset_url)"
   ]
  },
  {
   "cell_type": "code",
   "execution_count": 4,
   "id": "fa43d975-facf-4977-9f79-26ff3cec4625",
   "metadata": {
    "tags": []
   },
   "outputs": [
    {
     "name": "stdout",
     "output_type": "stream",
     "text": [
      "  fixed acidity;\"volatile acidity\";\"citric acid\";\"residual sugar\";\"chlorides\";\"free sulfur dioxide\";\"total sulfur dioxide\";\"density\";\"pH\";\"sulphates\";\"alcohol\";\"quality\"\n",
      "0   7.4;0.7;0;1.9;0.076;11;34;0.9978;3.51;0.56;9.4;5                                                                                                                     \n",
      "1   7.8;0.88;0;2.6;0.098;25;67;0.9968;3.2;0.68;9.8;5                                                                                                                     \n",
      "2  7.8;0.76;0.04;2.3;0.092;15;54;0.997;3.26;0.65;...                                                                                                                     \n",
      "3  11.2;0.28;0.56;1.9;0.075;17;60;0.998;3.16;0.58...                                                                                                                     \n",
      "4   7.4;0.7;0;1.9;0.076;11;34;0.9978;3.51;0.56;9.4;5                                                                                                                     \n"
     ]
    }
   ],
   "source": [
    "print(data.head())"
   ]
  },
  {
   "cell_type": "code",
   "execution_count": 5,
   "id": "09a19d1c-76d7-40d7-8344-dafbb02f061c",
   "metadata": {
    "tags": []
   },
   "outputs": [],
   "source": [
    "######### it looks like the CSV file is actually using semicolons to separate the data. \n",
    "######### to fix this issue..."
   ]
  },
  {
   "cell_type": "code",
   "execution_count": 6,
   "id": "0161e79a-6686-499b-82fe-583e9589a3cb",
   "metadata": {
    "tags": []
   },
   "outputs": [
    {
     "name": "stdout",
     "output_type": "stream",
     "text": [
      "   fixed acidity  volatile acidity  citric acid  residual sugar  chlorides  \\\n",
      "0            7.4              0.70         0.00             1.9      0.076   \n",
      "1            7.8              0.88         0.00             2.6      0.098   \n",
      "2            7.8              0.76         0.04             2.3      0.092   \n",
      "3           11.2              0.28         0.56             1.9      0.075   \n",
      "4            7.4              0.70         0.00             1.9      0.076   \n",
      "\n",
      "   free sulfur dioxide  total sulfur dioxide  density    pH  sulphates  \\\n",
      "0                 11.0                  34.0   0.9978  3.51       0.56   \n",
      "1                 25.0                  67.0   0.9968  3.20       0.68   \n",
      "2                 15.0                  54.0   0.9970  3.26       0.65   \n",
      "3                 17.0                  60.0   0.9980  3.16       0.58   \n",
      "4                 11.0                  34.0   0.9978  3.51       0.56   \n",
      "\n",
      "   alcohol  quality  \n",
      "0      9.4        5  \n",
      "1      9.8        5  \n",
      "2      9.8        5  \n",
      "3      9.8        6  \n",
      "4      9.4        5  \n"
     ]
    }
   ],
   "source": [
    "data = pd.read_csv(dataset_url, sep=';')\n",
    " \n",
    "print( data.head() )"
   ]
  },
  {
   "cell_type": "code",
   "execution_count": 7,
   "id": "fb05974f-c600-4642-aa2d-005bac231ceb",
   "metadata": {
    "tags": []
   },
   "outputs": [
    {
     "data": {
      "text/plain": [
       "(1599, 12)"
      ]
     },
     "execution_count": 7,
     "metadata": {},
     "output_type": "execute_result"
    }
   ],
   "source": [
    "data.shape"
   ]
  },
  {
   "cell_type": "code",
   "execution_count": 8,
   "id": "030ebe33-683e-4202-9eb0-42ae89126dd4",
   "metadata": {
    "tags": []
   },
   "outputs": [
    {
     "name": "stdout",
     "output_type": "stream",
     "text": [
      "       fixed acidity  volatile acidity  citric acid  residual sugar  \\\n",
      "count    1599.000000       1599.000000  1599.000000     1599.000000   \n",
      "mean        8.319637          0.527821     0.270976        2.538806   \n",
      "std         1.741096          0.179060     0.194801        1.409928   \n",
      "min         4.600000          0.120000     0.000000        0.900000   \n",
      "25%         7.100000          0.390000     0.090000        1.900000   \n",
      "50%         7.900000          0.520000     0.260000        2.200000   \n",
      "75%         9.200000          0.640000     0.420000        2.600000   \n",
      "max        15.900000          1.580000     1.000000       15.500000   \n",
      "\n",
      "         chlorides  free sulfur dioxide  total sulfur dioxide      density  \\\n",
      "count  1599.000000          1599.000000           1599.000000  1599.000000   \n",
      "mean      0.087467            15.874922             46.467792     0.996747   \n",
      "std       0.047065            10.460157             32.895324     0.001887   \n",
      "min       0.012000             1.000000              6.000000     0.990070   \n",
      "25%       0.070000             7.000000             22.000000     0.995600   \n",
      "50%       0.079000            14.000000             38.000000     0.996750   \n",
      "75%       0.090000            21.000000             62.000000     0.997835   \n",
      "max       0.611000            72.000000            289.000000     1.003690   \n",
      "\n",
      "                pH    sulphates      alcohol      quality  \n",
      "count  1599.000000  1599.000000  1599.000000  1599.000000  \n",
      "mean      3.311113     0.658149    10.422983     5.636023  \n",
      "std       0.154386     0.169507     1.065668     0.807569  \n",
      "min       2.740000     0.330000     8.400000     3.000000  \n",
      "25%       3.210000     0.550000     9.500000     5.000000  \n",
      "50%       3.310000     0.620000    10.200000     6.000000  \n",
      "75%       3.400000     0.730000    11.100000     6.000000  \n",
      "max       4.010000     2.000000    14.900000     8.000000  \n"
     ]
    }
   ],
   "source": [
    "print(data.describe())"
   ]
  },
  {
   "cell_type": "code",
   "execution_count": 9,
   "id": "78d4233c-3816-49d1-a7fb-bbe6f37413ec",
   "metadata": {
    "tags": []
   },
   "outputs": [
    {
     "name": "stdout",
     "output_type": "stream",
     "text": [
      "<class 'pandas.core.frame.DataFrame'>\n",
      "RangeIndex: 1599 entries, 0 to 1598\n",
      "Data columns (total 12 columns):\n",
      " #   Column                Non-Null Count  Dtype  \n",
      "---  ------                --------------  -----  \n",
      " 0   fixed acidity         1599 non-null   float64\n",
      " 1   volatile acidity      1599 non-null   float64\n",
      " 2   citric acid           1599 non-null   float64\n",
      " 3   residual sugar        1599 non-null   float64\n",
      " 4   chlorides             1599 non-null   float64\n",
      " 5   free sulfur dioxide   1599 non-null   float64\n",
      " 6   total sulfur dioxide  1599 non-null   float64\n",
      " 7   density               1599 non-null   float64\n",
      " 8   pH                    1599 non-null   float64\n",
      " 9   sulphates             1599 non-null   float64\n",
      " 10  alcohol               1599 non-null   float64\n",
      " 11  quality               1599 non-null   int64  \n",
      "dtypes: float64(11), int64(1)\n",
      "memory usage: 150.0 KB\n"
     ]
    }
   ],
   "source": [
    "data.info()"
   ]
  },
  {
   "cell_type": "code",
   "execution_count": 10,
   "id": "43ed3490-127d-4697-8d5e-e79613893b7a",
   "metadata": {
    "tags": []
   },
   "outputs": [],
   "source": [
    "####### All of the features are numeric, which is convenient. \n",
    "####### However, they have some very different scales, so let’s make a mental note to standardize the data later."
   ]
  },
  {
   "cell_type": "markdown",
   "id": "ae68c6dc-5113-4db1-93d7-30ce86ef1b83",
   "metadata": {},
   "source": [
    "# STEP4: split datasets"
   ]
  },
  {
   "cell_type": "markdown",
   "id": "395e7228-f2fe-42fa-8e22-d7c5748293d5",
   "metadata": {},
   "source": [
    "### First, let’s separate our target (y) features from our input (X) features:"
   ]
  },
  {
   "cell_type": "code",
   "execution_count": 11,
   "id": "50654462-8d0b-4ffe-8671-4d859aa3bb38",
   "metadata": {
    "tags": []
   },
   "outputs": [],
   "source": [
    "y = data.quality\n",
    "X = data.drop('quality', axis=1)"
   ]
  },
  {
   "cell_type": "code",
   "execution_count": 12,
   "id": "b04958b0-25a9-442b-a851-476dab0ae259",
   "metadata": {
    "tags": []
   },
   "outputs": [],
   "source": [
    "# Scikit-Learn’s useful train_test_split function:  \n",
    "### this is a fucntion of sklaen. it splits the original array and creates a new array from the original array\n",
    "# we’ll set aside 20% of the data as a test set for evaluating our model\n",
    "# We also set an arbitrary “random state” (a.k.a. seed) so that we can reproduce our results\n",
    "\n",
    "X_train, X_test, y_train, y_test = train_test_split(X, y, \n",
    "                                                    test_size=0.2, \n",
    "                                                    random_state=123, \n",
    "                                                    stratify=y)\n",
    "\n"
   ]
  },
  {
   "cell_type": "markdown",
   "id": "b5db1d40-4ab4-4b60-a1c4-5fd828673917",
   "metadata": {
    "tags": []
   },
   "source": [
    "# STEP5: Decleate Data Preprocessing Steps"
   ]
  },
  {
   "cell_type": "markdown",
   "id": "88a55f9d-bdbd-46e5-ab0c-7b77b8654797",
   "metadata": {},
   "source": [
    "## scaling method 1 : NOTE THAT WE DO NOT USE THIS METHOD"
   ]
  },
  {
   "cell_type": "code",
   "execution_count": 13,
   "id": "5d35d904-d75d-4d0b-a216-1464b7d7cb68",
   "metadata": {
    "tags": []
   },
   "outputs": [
    {
     "name": "stdout",
     "output_type": "stream",
     "text": [
      "      fixed acidity  volatile acidity  citric acid  residual sugar  chlorides  \\\n",
      "691             9.2             0.920         0.24             2.6      0.087   \n",
      "1475            5.3             0.470         0.11             2.2      0.048   \n",
      "1065            7.7             0.610         0.18             2.4      0.083   \n",
      "1159           10.2             0.410         0.43             2.2      0.110   \n",
      "227             9.0             0.820         0.14             2.6      0.089   \n",
      "...             ...               ...          ...             ...        ...   \n",
      "463             8.1             0.660         0.70             2.2      0.098   \n",
      "558            10.9             0.530         0.49             4.6      0.118   \n",
      "1094            6.6             0.725         0.09             5.5      0.117   \n",
      "792             7.1             0.610         0.02             2.5      0.081   \n",
      "381            13.7             0.415         0.68             2.9      0.085   \n",
      "\n",
      "      free sulfur dioxide  total sulfur dioxide  density    pH  sulphates  \\\n",
      "691                  12.0                  93.0  0.99980  3.48       0.54   \n",
      "1475                 16.0                  89.0  0.99182  3.54       0.88   \n",
      "1065                  6.0                  20.0  0.99630  3.29       0.60   \n",
      "1159                 11.0                  37.0  0.99728  3.16       0.67   \n",
      "227                   9.0                  23.0  0.99840  3.39       0.63   \n",
      "...                   ...                   ...      ...   ...        ...   \n",
      "463                  25.0                 129.0  0.99720  3.08       0.53   \n",
      "558                  10.0                  17.0  1.00020  3.07       0.56   \n",
      "1094                  9.0                  17.0  0.99655  3.35       0.49   \n",
      "792                  17.0                  87.0  0.99745  3.48       0.60   \n",
      "381                  17.0                  43.0  1.00140  3.06       0.80   \n",
      "\n",
      "        alcohol  \n",
      "691    9.800000  \n",
      "1475  13.566667  \n",
      "1065  10.200000  \n",
      "1159  10.800000  \n",
      "227    9.800000  \n",
      "...         ...  \n",
      "463    9.000000  \n",
      "558   11.700000  \n",
      "1094  10.800000  \n",
      "792    9.700000  \n",
      "381   10.000000  \n",
      "\n",
      "[1279 rows x 11 columns]\n"
     ]
    }
   ],
   "source": [
    "print(X_train)"
   ]
  },
  {
   "cell_type": "code",
   "execution_count": 14,
   "id": "dda72a21-3b66-489f-bf8a-eb8b60a13056",
   "metadata": {
    "tags": []
   },
   "outputs": [
    {
     "name": "stdout",
     "output_type": "stream",
     "text": [
      "[[ 0.51358886  2.19680282 -0.164433   ...  1.08415147 -0.69866131\n",
      "  -0.58608178]\n",
      " [-1.73698885 -0.31792985 -0.82867679 ...  1.46964764  1.2491516\n",
      "   2.97009781]\n",
      " [-0.35201795  0.46443143 -0.47100705 ... -0.13658641 -0.35492962\n",
      "  -0.20843439]\n",
      " ...\n",
      " [-0.98679628  1.10708533 -0.93086814 ...  0.24890976 -0.98510439\n",
      "   0.35803669]\n",
      " [-0.69826067  0.46443143 -1.28853787 ...  1.08415147 -0.35492962\n",
      "  -0.68049363]\n",
      " [ 3.1104093  -0.62528606  2.08377675 ... -1.61432173  0.79084268\n",
      "  -0.39725809]]\n"
     ]
    }
   ],
   "source": [
    "# Using \"preprocessing\", scaling a dataset\n",
    "X_train_scaled = preprocessing.scale(X_train)\n",
    "print( X_train_scaled )"
   ]
  },
  {
   "cell_type": "code",
   "execution_count": 15,
   "id": "934b9bc6-9681-43ad-9618-87718faf991c",
   "metadata": {
    "tags": []
   },
   "outputs": [
    {
     "name": "stdout",
     "output_type": "stream",
     "text": [
      "[ 0. -0. -0. -0.  0. -0. -0. -0. -0. -0. -0.]\n",
      "[1. 1. 1. 1. 1. 1. 1. 1. 1. 1. 1.]\n"
     ]
    }
   ],
   "source": [
    "# confirming that the dataset is standardised / scaled \n",
    "\n",
    "print( X_train_scaled.mean(axis=0) ) \n",
    "#### this may print you with sicentific notation. \n",
    "#### In such cases, you set np.set_printoptions(suppress=True) \n",
    "\n",
    "print( X_train_scaled.std(axis=0) )"
   ]
  },
  {
   "cell_type": "markdown",
   "id": "90651770-3635-4017-8519-ba5e66721162",
   "metadata": {
    "tags": []
   },
   "source": [
    "## Scaling Method2 : "
   ]
  },
  {
   "cell_type": "code",
   "execution_count": 16,
   "id": "5a6d7351-7e4a-4b88-be8c-9af6a8d8f8b2",
   "metadata": {
    "tags": []
   },
   "outputs": [],
   "source": [
    "#### we are using this method so that we can make the performance of model more realistic"
   ]
  },
  {
   "cell_type": "markdown",
   "id": "fe9c8947-ca37-423d-b4d7-736d4d09c276",
   "metadata": {},
   "source": [
    "Here’s what that process looks like:\n",
    "\n",
    "  1. Fit the transformer on the training set (saving the means and standard deviations)\n",
    "  2. Apply the transformer to the training set (scaling the training data)\n",
    "  3. Apply the transformer to the test set (using the same means and standard deviations)"
   ]
  },
  {
   "cell_type": "code",
   "execution_count": 17,
   "id": "9ac99edc-8d81-42d5-afef-2bf60b9bdd17",
   "metadata": {
    "tags": []
   },
   "outputs": [],
   "source": [
    "# 1.saving the means and standard deviations\n",
    "scaler = preprocessing.StandardScaler().fit(X_train)"
   ]
  },
  {
   "cell_type": "code",
   "execution_count": 18,
   "id": "4ef29cf5-8207-49b5-b38d-bcc58a6fa96c",
   "metadata": {
    "tags": []
   },
   "outputs": [
    {
     "name": "stdout",
     "output_type": "stream",
     "text": [
      "[ 0. -0. -0. -0.  0. -0. -0. -0. -0. -0. -0.]\n",
      "[1. 1. 1. 1. 1. 1. 1. 1. 1. 1. 1.]\n"
     ]
    }
   ],
   "source": [
    "## confrimating means and standard deviations are saved \n",
    "X_train_scaled = scaler.transform(X_train)\n",
    "\n",
    "print( X_train_scaled.mean(axis=0))\n",
    "print( X_train_scaled.std(axis=0))"
   ]
  },
  {
   "cell_type": "code",
   "execution_count": 19,
   "id": "59595c1e-c0fd-4107-a9d9-010b59a8acf5",
   "metadata": {
    "tags": []
   },
   "outputs": [
    {
     "name": "stdout",
     "output_type": "stream",
     "text": [
      "[ 0.02776704  0.02592492 -0.03078587 -0.03137977 -0.00471876 -0.04413827\n",
      " -0.02414174 -0.00293273 -0.00467444 -0.10894663  0.01043391]\n",
      "[1.02160495 1.00135689 0.97456598 0.91099054 0.86716698 0.94193125\n",
      " 1.03673213 1.03145119 0.95734849 0.83829505 1.0286218 ]\n"
     ]
    }
   ],
   "source": [
    "# 2. scaling the training data\n",
    "\n",
    "X_test_scaled = scaler.transform(X_test)\n",
    "\n",
    "print( X_test_scaled.mean(axis=0))\n",
    "print( X_test_scaled.std(axis=0))"
   ]
  },
  {
   "cell_type": "code",
   "execution_count": 20,
   "id": "b0e33c09-2ceb-45ea-a9b1-5a3652c3dc02",
   "metadata": {
    "tags": []
   },
   "outputs": [],
   "source": [
    "##### Notice that the result is not perfectly centred at yero (the reuslt is not showing 0)\n",
    "##### This is because we’re transforming the test set using the means from the training set, not from the test set itself."
   ]
  },
  {
   "cell_type": "code",
   "execution_count": 21,
   "id": "a58ba994-f1ba-4fd2-a891-c15eda979c0c",
   "metadata": {
    "tags": []
   },
   "outputs": [],
   "source": [
    "##### In practice, when we set up the cross-validation pipeline, we won’t even need to manually fit the Transformer API. \n",
    "##### Instead, we’ll simply declare the class object, like so\n",
    "\n",
    "pipeline = make_pipeline(preprocessing.StandardScaler(),\n",
    "                         RandomForestRegressor(n_estimators=100,\n",
    "                                               random_state=123))\n",
    "\n",
    "##### a modeling pipeline that first transforms the data using StandardScaler() and then fits a model using a random forest regressor"
   ]
  },
  {
   "cell_type": "markdown",
   "id": "22c343be-cd89-4d8c-a058-2276d048dbd8",
   "metadata": {},
   "source": [
    "# STEP6: Declare hzperparameters"
   ]
  },
  {
   "cell_type": "markdown",
   "id": "d42c90d9-c07b-43db-9d61-19f22cca64bf",
   "metadata": {},
   "source": [
    "There are two types of parameters we need to worry about: \n",
    "1. model parameters --- Models parameters can be learned directly from the data (i.e. regression coefficients)\n",
    "2. hyperparameters --- while hyperparameters cannot. \n",
    "   Hyperparameters express “higher-level” structural information about the model, and they are typically set before training the model."
   ]
  },
  {
   "cell_type": "code",
   "execution_count": null,
   "id": "9c12a20a-d60f-48ac-8e04-73788b658c85",
   "metadata": {},
   "outputs": [],
   "source": []
  },
  {
   "cell_type": "code",
   "execution_count": 22,
   "id": "4a914cfb-ed6d-452d-b8cf-1bd35d2af130",
   "metadata": {
    "tags": []
   },
   "outputs": [],
   "source": [
    "# declaring hzperparameters\n",
    "\n",
    "hyperparameters = { 'randomforestregressor__max_features' : ['auto', 'sqrt', 'log2'],\n",
    "                  'randomforestregressor__max_depth': [None, 5, 3, 1]}"
   ]
  },
  {
   "cell_type": "code",
   "execution_count": null,
   "id": "cf43c628-730e-4489-ae8d-58ea1ce19ee0",
   "metadata": {},
   "outputs": [],
   "source": []
  },
  {
   "cell_type": "markdown",
   "id": "441faa37-2170-4082-8945-3f65068fe469",
   "metadata": {},
   "source": [
    "# STEP7: Tune model using a cross-validation pipeline"
   ]
  },
  {
   "cell_type": "markdown",
   "id": "35e73e2c-c659-4220-ab4e-4c0e12ad25f9",
   "metadata": {},
   "source": [
    "Cross-validation is a process for reliably estimating the performance of a method for building a model by training and evaluating your model multiple times using the same method.\n",
    "\n",
    "Steps for cross validatoin (CV)\n",
    "\n",
    "1. Split your data into k equal parts, or “folds” (typically k=10).\n",
    "2. Train your model on k-1 folds (e.g. the first 9 folds).\n",
    "3. Evaluate it on the remaining “hold-out” fold (e.g. the 10th fold).\n",
    "4. Perform steps (2) and (3) k times, each time holding out a different fold.\n",
    "5. Aggregate the performance across all k folds. This is your performance metric.\n"
   ]
  },
  {
   "cell_type": "code",
   "execution_count": 27,
   "id": "78d21fa7-6b79-4cdb-865e-f9fe7263ea7f",
   "metadata": {},
   "outputs": [
    {
     "name": "stderr",
     "output_type": "stream",
     "text": [
      "C:\\Users\\HayateSato\\anaconda3\\Lib\\site-packages\\sklearn\\model_selection\\_validation.py:425: FitFailedWarning: \n",
      "40 fits failed out of a total of 120.\n",
      "The score on these train-test partitions for these parameters will be set to nan.\n",
      "If these failures are not expected, you can try to debug them by setting error_score='raise'.\n",
      "\n",
      "Below are more details about the failures:\n",
      "--------------------------------------------------------------------------------\n",
      "40 fits failed with the following error:\n",
      "Traceback (most recent call last):\n",
      "  File \"C:\\Users\\HayateSato\\anaconda3\\Lib\\site-packages\\sklearn\\model_selection\\_validation.py\", line 732, in _fit_and_score\n",
      "    estimator.fit(X_train, y_train, **fit_params)\n",
      "  File \"C:\\Users\\HayateSato\\anaconda3\\Lib\\site-packages\\sklearn\\base.py\", line 1151, in wrapper\n",
      "    return fit_method(estimator, *args, **kwargs)\n",
      "           ^^^^^^^^^^^^^^^^^^^^^^^^^^^^^^^^^^^^^^\n",
      "  File \"C:\\Users\\HayateSato\\anaconda3\\Lib\\site-packages\\sklearn\\pipeline.py\", line 420, in fit\n",
      "    self._final_estimator.fit(Xt, y, **fit_params_last_step)\n",
      "  File \"C:\\Users\\HayateSato\\anaconda3\\Lib\\site-packages\\sklearn\\base.py\", line 1144, in wrapper\n",
      "    estimator._validate_params()\n",
      "  File \"C:\\Users\\HayateSato\\anaconda3\\Lib\\site-packages\\sklearn\\base.py\", line 637, in _validate_params\n",
      "    validate_parameter_constraints(\n",
      "  File \"C:\\Users\\HayateSato\\anaconda3\\Lib\\site-packages\\sklearn\\utils\\_param_validation.py\", line 95, in validate_parameter_constraints\n",
      "    raise InvalidParameterError(\n",
      "sklearn.utils._param_validation.InvalidParameterError: The 'max_features' parameter of RandomForestRegressor must be an int in the range [1, inf), a float in the range (0.0, 1.0], a str among {'sqrt', 'log2'} or None. Got 'auto' instead.\n",
      "\n",
      "  warnings.warn(some_fits_failed_message, FitFailedWarning)\n",
      "C:\\Users\\HayateSato\\anaconda3\\Lib\\site-packages\\sklearn\\model_selection\\_search.py:976: UserWarning: One or more of the test scores are non-finite: [       nan 0.47699904 0.47699904        nan 0.39015382 0.39015382\n",
      "        nan 0.32935199 0.32935199        nan 0.1729199  0.1729199 ]\n",
      "  warnings.warn(\n"
     ]
    },
    {
     "data": {
      "text/html": [
       "<style>#sk-container-id-2 {color: black;}#sk-container-id-2 pre{padding: 0;}#sk-container-id-2 div.sk-toggleable {background-color: white;}#sk-container-id-2 label.sk-toggleable__label {cursor: pointer;display: block;width: 100%;margin-bottom: 0;padding: 0.3em;box-sizing: border-box;text-align: center;}#sk-container-id-2 label.sk-toggleable__label-arrow:before {content: \"▸\";float: left;margin-right: 0.25em;color: #696969;}#sk-container-id-2 label.sk-toggleable__label-arrow:hover:before {color: black;}#sk-container-id-2 div.sk-estimator:hover label.sk-toggleable__label-arrow:before {color: black;}#sk-container-id-2 div.sk-toggleable__content {max-height: 0;max-width: 0;overflow: hidden;text-align: left;background-color: #f0f8ff;}#sk-container-id-2 div.sk-toggleable__content pre {margin: 0.2em;color: black;border-radius: 0.25em;background-color: #f0f8ff;}#sk-container-id-2 input.sk-toggleable__control:checked~div.sk-toggleable__content {max-height: 200px;max-width: 100%;overflow: auto;}#sk-container-id-2 input.sk-toggleable__control:checked~label.sk-toggleable__label-arrow:before {content: \"▾\";}#sk-container-id-2 div.sk-estimator input.sk-toggleable__control:checked~label.sk-toggleable__label {background-color: #d4ebff;}#sk-container-id-2 div.sk-label input.sk-toggleable__control:checked~label.sk-toggleable__label {background-color: #d4ebff;}#sk-container-id-2 input.sk-hidden--visually {border: 0;clip: rect(1px 1px 1px 1px);clip: rect(1px, 1px, 1px, 1px);height: 1px;margin: -1px;overflow: hidden;padding: 0;position: absolute;width: 1px;}#sk-container-id-2 div.sk-estimator {font-family: monospace;background-color: #f0f8ff;border: 1px dotted black;border-radius: 0.25em;box-sizing: border-box;margin-bottom: 0.5em;}#sk-container-id-2 div.sk-estimator:hover {background-color: #d4ebff;}#sk-container-id-2 div.sk-parallel-item::after {content: \"\";width: 100%;border-bottom: 1px solid gray;flex-grow: 1;}#sk-container-id-2 div.sk-label:hover label.sk-toggleable__label {background-color: #d4ebff;}#sk-container-id-2 div.sk-serial::before {content: \"\";position: absolute;border-left: 1px solid gray;box-sizing: border-box;top: 0;bottom: 0;left: 50%;z-index: 0;}#sk-container-id-2 div.sk-serial {display: flex;flex-direction: column;align-items: center;background-color: white;padding-right: 0.2em;padding-left: 0.2em;position: relative;}#sk-container-id-2 div.sk-item {position: relative;z-index: 1;}#sk-container-id-2 div.sk-parallel {display: flex;align-items: stretch;justify-content: center;background-color: white;position: relative;}#sk-container-id-2 div.sk-item::before, #sk-container-id-2 div.sk-parallel-item::before {content: \"\";position: absolute;border-left: 1px solid gray;box-sizing: border-box;top: 0;bottom: 0;left: 50%;z-index: -1;}#sk-container-id-2 div.sk-parallel-item {display: flex;flex-direction: column;z-index: 1;position: relative;background-color: white;}#sk-container-id-2 div.sk-parallel-item:first-child::after {align-self: flex-end;width: 50%;}#sk-container-id-2 div.sk-parallel-item:last-child::after {align-self: flex-start;width: 50%;}#sk-container-id-2 div.sk-parallel-item:only-child::after {width: 0;}#sk-container-id-2 div.sk-dashed-wrapped {border: 1px dashed gray;margin: 0 0.4em 0.5em 0.4em;box-sizing: border-box;padding-bottom: 0.4em;background-color: white;}#sk-container-id-2 div.sk-label label {font-family: monospace;font-weight: bold;display: inline-block;line-height: 1.2em;}#sk-container-id-2 div.sk-label-container {text-align: center;}#sk-container-id-2 div.sk-container {/* jupyter's `normalize.less` sets `[hidden] { display: none; }` but bootstrap.min.css set `[hidden] { display: none !important; }` so we also need the `!important` here to be able to override the default hidden behavior on the sphinx rendered scikit-learn.org. See: https://github.com/scikit-learn/scikit-learn/issues/21755 */display: inline-block !important;position: relative;}#sk-container-id-2 div.sk-text-repr-fallback {display: none;}</style><div id=\"sk-container-id-2\" class=\"sk-top-container\"><div class=\"sk-text-repr-fallback\"><pre>GridSearchCV(cv=10,\n",
       "             estimator=Pipeline(steps=[(&#x27;standardscaler&#x27;, StandardScaler()),\n",
       "                                       (&#x27;randomforestregressor&#x27;,\n",
       "                                        RandomForestRegressor(random_state=123))]),\n",
       "             param_grid={&#x27;randomforestregressor__max_depth&#x27;: [None, 5, 3, 1],\n",
       "                         &#x27;randomforestregressor__max_features&#x27;: [&#x27;auto&#x27;, &#x27;sqrt&#x27;,\n",
       "                                                                 &#x27;log2&#x27;]})</pre><b>In a Jupyter environment, please rerun this cell to show the HTML representation or trust the notebook. <br />On GitHub, the HTML representation is unable to render, please try loading this page with nbviewer.org.</b></div><div class=\"sk-container\" hidden><div class=\"sk-item sk-dashed-wrapped\"><div class=\"sk-label-container\"><div class=\"sk-label sk-toggleable\"><input class=\"sk-toggleable__control sk-hidden--visually\" id=\"sk-estimator-id-5\" type=\"checkbox\" ><label for=\"sk-estimator-id-5\" class=\"sk-toggleable__label sk-toggleable__label-arrow\">GridSearchCV</label><div class=\"sk-toggleable__content\"><pre>GridSearchCV(cv=10,\n",
       "             estimator=Pipeline(steps=[(&#x27;standardscaler&#x27;, StandardScaler()),\n",
       "                                       (&#x27;randomforestregressor&#x27;,\n",
       "                                        RandomForestRegressor(random_state=123))]),\n",
       "             param_grid={&#x27;randomforestregressor__max_depth&#x27;: [None, 5, 3, 1],\n",
       "                         &#x27;randomforestregressor__max_features&#x27;: [&#x27;auto&#x27;, &#x27;sqrt&#x27;,\n",
       "                                                                 &#x27;log2&#x27;]})</pre></div></div></div><div class=\"sk-parallel\"><div class=\"sk-parallel-item\"><div class=\"sk-item\"><div class=\"sk-label-container\"><div class=\"sk-label sk-toggleable\"><input class=\"sk-toggleable__control sk-hidden--visually\" id=\"sk-estimator-id-6\" type=\"checkbox\" ><label for=\"sk-estimator-id-6\" class=\"sk-toggleable__label sk-toggleable__label-arrow\">estimator: Pipeline</label><div class=\"sk-toggleable__content\"><pre>Pipeline(steps=[(&#x27;standardscaler&#x27;, StandardScaler()),\n",
       "                (&#x27;randomforestregressor&#x27;,\n",
       "                 RandomForestRegressor(random_state=123))])</pre></div></div></div><div class=\"sk-serial\"><div class=\"sk-item\"><div class=\"sk-serial\"><div class=\"sk-item\"><div class=\"sk-estimator sk-toggleable\"><input class=\"sk-toggleable__control sk-hidden--visually\" id=\"sk-estimator-id-7\" type=\"checkbox\" ><label for=\"sk-estimator-id-7\" class=\"sk-toggleable__label sk-toggleable__label-arrow\">StandardScaler</label><div class=\"sk-toggleable__content\"><pre>StandardScaler()</pre></div></div></div><div class=\"sk-item\"><div class=\"sk-estimator sk-toggleable\"><input class=\"sk-toggleable__control sk-hidden--visually\" id=\"sk-estimator-id-8\" type=\"checkbox\" ><label for=\"sk-estimator-id-8\" class=\"sk-toggleable__label sk-toggleable__label-arrow\">RandomForestRegressor</label><div class=\"sk-toggleable__content\"><pre>RandomForestRegressor(random_state=123)</pre></div></div></div></div></div></div></div></div></div></div></div></div>"
      ],
      "text/plain": [
       "GridSearchCV(cv=10,\n",
       "             estimator=Pipeline(steps=[('standardscaler', StandardScaler()),\n",
       "                                       ('randomforestregressor',\n",
       "                                        RandomForestRegressor(random_state=123))]),\n",
       "             param_grid={'randomforestregressor__max_depth': [None, 5, 3, 1],\n",
       "                         'randomforestregressor__max_features': ['auto', 'sqrt',\n",
       "                                                                 'log2']})"
      ]
     },
     "execution_count": 27,
     "metadata": {},
     "output_type": "execute_result"
    }
   ],
   "source": [
    "# Scikit Learn has the predefined method to do this in just on line of code\n",
    "clf = GridSearchCV(pipeline, hyperparameters, cv=10)\n",
    " \n",
    "# Fit and tune model\n",
    "clf.fit(X_train, y_train)"
   ]
  },
  {
   "cell_type": "code",
   "execution_count": 26,
   "id": "00f79ecb-11fb-480c-bdfb-e8e3adf3abdd",
   "metadata": {},
   "outputs": [
    {
     "name": "stdout",
     "output_type": "stream",
     "text": [
      "{'randomforestregressor__max_depth': None, 'randomforestregressor__max_features': 'sqrt'}\n"
     ]
    }
   ],
   "source": [
    "print( clf.best_params_ )"
   ]
  },
  {
   "cell_type": "code",
   "execution_count": null,
   "id": "8d1ff8bb-427e-4f4e-8de1-dd7e3867e885",
   "metadata": {},
   "outputs": [],
   "source": []
  },
  {
   "cell_type": "code",
   "execution_count": null,
   "id": "653d6fed-ca2e-4bd1-9128-862282709a31",
   "metadata": {},
   "outputs": [],
   "source": []
  },
  {
   "cell_type": "code",
   "execution_count": null,
   "id": "51e3580f-9759-4752-b117-a60c1addeaf2",
   "metadata": {},
   "outputs": [],
   "source": []
  },
  {
   "cell_type": "code",
   "execution_count": null,
   "id": "2e74c14d-758b-4134-bb61-cd8989842f30",
   "metadata": {},
   "outputs": [],
   "source": []
  },
  {
   "cell_type": "code",
   "execution_count": null,
   "id": "dca59405-5aea-4bc3-83c5-3235979f31e0",
   "metadata": {},
   "outputs": [],
   "source": []
  },
  {
   "cell_type": "code",
   "execution_count": null,
   "id": "0ff23a42-3277-4be1-b203-d73faed80b7a",
   "metadata": {},
   "outputs": [],
   "source": []
  },
  {
   "cell_type": "code",
   "execution_count": null,
   "id": "7009d525-f754-4ba2-b8a9-2578ca4d848f",
   "metadata": {},
   "outputs": [],
   "source": []
  },
  {
   "cell_type": "code",
   "execution_count": null,
   "id": "6afdb87c-84eb-4eda-aa1b-583f8ea92ad3",
   "metadata": {},
   "outputs": [],
   "source": []
  },
  {
   "cell_type": "code",
   "execution_count": null,
   "id": "3ed2d28d-11ea-4d91-b2fc-c2565785e6a8",
   "metadata": {},
   "outputs": [],
   "source": []
  },
  {
   "cell_type": "code",
   "execution_count": null,
   "id": "cabb327b-01d5-4c40-9eb6-eb0cacb2881f",
   "metadata": {},
   "outputs": [],
   "source": []
  },
  {
   "cell_type": "code",
   "execution_count": null,
   "id": "0377c2f1-1859-4b94-b37c-c33053dccf82",
   "metadata": {},
   "outputs": [],
   "source": []
  },
  {
   "cell_type": "code",
   "execution_count": null,
   "id": "6c9a79b3-04cc-464d-aadf-4418d0977892",
   "metadata": {},
   "outputs": [],
   "source": []
  },
  {
   "cell_type": "code",
   "execution_count": null,
   "id": "7bda441d-0207-43eb-9e1e-955ad84eb734",
   "metadata": {},
   "outputs": [],
   "source": []
  },
  {
   "cell_type": "code",
   "execution_count": null,
   "id": "7ee04562-b768-4da1-ad73-e751e442b6f8",
   "metadata": {},
   "outputs": [],
   "source": []
  },
  {
   "cell_type": "markdown",
   "id": "c3a1821a-70ea-4dcb-9991-5f0a5a80ba7f",
   "metadata": {},
   "source": []
  }
 ],
 "metadata": {
  "kernelspec": {
   "display_name": "Python 3 (ipykernel)",
   "language": "python",
   "name": "python3"
  },
  "language_info": {
   "codemirror_mode": {
    "name": "ipython",
    "version": 3
   },
   "file_extension": ".py",
   "mimetype": "text/x-python",
   "name": "python",
   "nbconvert_exporter": "python",
   "pygments_lexer": "ipython3",
   "version": "3.11.5"
  }
 },
 "nbformat": 4,
 "nbformat_minor": 5
}
